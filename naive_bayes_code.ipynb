{
 "cells": [
  {
   "cell_type": "code",
   "execution_count": 3,
   "id": "b403a130",
   "metadata": {},
   "outputs": [],
   "source": [
    "import numpy as np\n",
    "import pandas as pd\n",
    "import matplotlib.pyplot as plt\n",
    "from sklearn.model_selection import train_test_split\n",
    "from sklearn.datasets import load_iris"
   ]
  },
  {
   "cell_type": "code",
   "execution_count": 10,
   "id": "797edb91",
   "metadata": {},
   "outputs": [],
   "source": [
    "class NB_classifier():\n",
    "    def __init__(self):\n",
    "        pass\n",
    "    \n",
    "    def fit(self, X, y):\n",
    "        self.n_rows, self.n_features = X.shape\n",
    "        self.n_classes = len(np.unique(y))\n",
    "        self.classes = np.unique(y)\n",
    "        #initialize the stats matrices to zeros\n",
    "        self.means = np.zeros((self.n_classes, self.n_features))\n",
    "        self.variances = np.zeros((self.n_classes, self.n_features))\n",
    "        self.priors = np.zeros(self.n_classes)\n",
    "        \n",
    "        for i, c in enumerate(self.classes):\n",
    "            #get the i-th class observations\n",
    "            class_observations = X[y==c]\n",
    "            self.means[i,:] = np.mean(class_observations, axis=0)\n",
    "            self.variances[i,:] = np.var(class_observations, axis=0)\n",
    "            self.priors[i] = len(class_observations)/self.n_rows\n",
    "    \n",
    "    #get the gaussian density values for an observation\n",
    "    def gaussian_density(self, x, mean, var):\n",
    "        num = np.exp(-0.5 * ((x - mean) ** 2/var))\n",
    "        den = np.sqrt(var * 2 * np.pi)\n",
    "        return num/den\n",
    "    \n",
    "    def get_posterior(self, x):\n",
    "        posteriors = []\n",
    "        \n",
    "        for i in range(self.n_classes):\n",
    "            #prepare the pdf parameters and the prior prob\n",
    "            mean = self.means[i]\n",
    "            var = self.variances[i]\n",
    "            prior = np.log(self.priors[i])\n",
    "            \n",
    "            #get the likelihood prob for the observation x\n",
    "            conditional = np.sum(np.log(self.gaussian_density(x, mean, var)))\n",
    "            \n",
    "            posterior = conditional + prior\n",
    "            posteriors.append(posterior)\n",
    "        \n",
    "        return np.argmax(posteriors)\n",
    "    \n",
    "    def predict(self, X):\n",
    "        preds = [self.get_posterior(x) for x in X]\n",
    "        return np.array(preds)\n",
    "    \n",
    "    \n",
    "    "
   ]
  },
  {
   "cell_type": "code",
   "execution_count": 6,
   "id": "1b7e5ba1",
   "metadata": {},
   "outputs": [],
   "source": [
    "X = load_iris().data\n",
    "y = load_iris().target\n",
    "x_train, x_test, y_train, y_test = train_test_split(X, y, test_size = 0.2, random_state = 42)"
   ]
  },
  {
   "cell_type": "code",
   "execution_count": 11,
   "id": "da30a3a9",
   "metadata": {},
   "outputs": [],
   "source": [
    "model = NB_classifier()\n",
    "model.fit(x_train, y_train)\n",
    "predictions = model.predict(x_test)"
   ]
  },
  {
   "cell_type": "code",
   "execution_count": 12,
   "id": "c4dc6c75",
   "metadata": {},
   "outputs": [
    {
     "name": "stdout",
     "output_type": "stream",
     "text": [
      "accuracy :  1.0\n"
     ]
    }
   ],
   "source": [
    "def accuracy(y_pred, y_true):\n",
    "    acc = np.sum(y_pred == y_true)/len(y_true)\n",
    "    return acc\n",
    "\n",
    "print(\"accuracy : \", accuracy(predictions, y_test))"
   ]
  },
  {
   "cell_type": "code",
   "execution_count": null,
   "id": "9099ff3f",
   "metadata": {},
   "outputs": [],
   "source": []
  }
 ],
 "metadata": {
  "kernelspec": {
   "display_name": "Python 3 (ipykernel)",
   "language": "python",
   "name": "python3"
  },
  "language_info": {
   "codemirror_mode": {
    "name": "ipython",
    "version": 3
   },
   "file_extension": ".py",
   "mimetype": "text/x-python",
   "name": "python",
   "nbconvert_exporter": "python",
   "pygments_lexer": "ipython3",
   "version": "3.9.13"
  }
 },
 "nbformat": 4,
 "nbformat_minor": 5
}
